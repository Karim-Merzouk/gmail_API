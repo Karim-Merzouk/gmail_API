{
 "cells": [
  {
   "cell_type": "code",
   "execution_count": 3,
   "metadata": {},
   "outputs": [],
   "source": [
    "\n",
    "\n",
    "from googleapiclient.discovery import build\n",
    "from google.auth.transport.requests import Request\n",
    "from google.oauth2.credentials import Credentials\n",
    "import os\n",
    "import base64\n",
    "import email\n",
    "\n",
    "SCOPES = [\"https://www.googleapis.com/auth/gmail.readonly\"]\n",
    "\n",
    "def authenticate_gmail():\n",
    "    creds = None\n",
    "    if os.path.exists(\"token.json\"):\n",
    "        creds = Credentials.from_authorized_user_file(\"token.json\", SCOPES)\n",
    "    if not creds or not creds.valid:\n",
    "        from google_auth_oauthlib.flow import InstalledAppFlow\n",
    "        flow = InstalledAppFlow.from_client_secrets_file(\"credentials.json\", SCOPES)\n",
    "        creds = flow.run_local_server(port=0)\n",
    "        with open(\"token.json\", \"w\") as token:\n",
    "            token.write(creds.to_json())\n",
    "\n",
    "    return build(\"gmail\", \"v1\", credentials=creds)\n",
    "\n"
   ]
  },
  {
   "cell_type": "code",
   "execution_count": 4,
   "metadata": {},
   "outputs": [],
   "source": [
    "def search_emails(service, email_address, word, after_date):\n",
    "    query = f\"from:{email_address} subject:{word} has:attachment after:{after_date}\"\n",
    "    results = service.users().messages().list(userId=\"me\", q=query).execute()\n",
    "    messages = results.get(\"messages\", [])\n",
    "    return messages\n"
   ]
  },
  {
   "cell_type": "code",
   "execution_count": 5,
   "metadata": {},
   "outputs": [],
   "source": [
    "def download_attachments(service, messages, save_dir=\"attachments\"):\n",
    "    if not os.path.exists(save_dir):\n",
    "        os.makedirs(save_dir)\n",
    "\n",
    "    for msg in messages:\n",
    "        msg_id = msg[\"id\"]\n",
    "        message = service.users().messages().get(userId=\"me\", id=msg_id).execute()\n",
    "        payload = message[\"payload\"]\n",
    "\n",
    "        if \"parts\" in payload:\n",
    "            for part in payload[\"parts\"]:\n",
    "                if part[\"filename\"]:  # Check if it's an attachment\n",
    "                    attachment_id = part[\"body\"][\"attachmentId\"]\n",
    "                    attachment = service.users().messages().attachments().get(\n",
    "                        userId=\"me\", messageId=msg_id, id=attachment_id\n",
    "                    ).execute()\n",
    "\n",
    "                    file_data = base64.urlsafe_b64decode(attachment[\"data\"].encode(\"UTF-8\"))\n",
    "                    file_path = os.path.join(save_dir, part[\"filename\"])\n",
    "\n",
    "                    with open(file_path, \"wb\") as f:\n",
    "                        f.write(file_data)\n",
    "                        print(f\"Downloaded: {file_path}\")"
   ]
  },
  {
   "cell_type": "code",
   "execution_count": 6,
   "metadata": {},
   "outputs": [],
   "source": [
    "def search_emails_bysender(service, email_address, word):\n",
    "    query = f\"from:{email_address} subject:{word} has:attachment\"\n",
    "    results = service.users().messages().list(userId=\"me\", q=query).execute()\n",
    "    messages = results.get(\"messages\", [])\n",
    "    return messages\n",
    "def download_attachments_sender(service, messages, save_dir=\"attachments\"):\n",
    "    if not os.path.exists(save_dir):\n",
    "        os.makedirs(save_dir)\n",
    "\n",
    "    for msg in messages:\n",
    "        msg_id = msg[\"id\"]\n",
    "        message = service.users().messages().get(userId=\"me\", id=msg_id).execute()\n",
    "        payload = message[\"payload\"]\n",
    "\n",
    "        if \"parts\" in payload:\n",
    "            for part in payload[\"parts\"]:\n",
    "                if part[\"filename\"]:  # Check if it's an attachment\n",
    "                    attachment_id = part[\"body\"][\"attachmentId\"]\n",
    "                    attachment = service.users().messages().attachments().get(\n",
    "                        userId=\"me\", messageId=msg_id, id=attachment_id\n",
    "                    ).execute()\n",
    "\n",
    "                    file_data = base64.urlsafe_b64decode(attachment[\"data\"].encode(\"UTF-8\"))\n",
    "                    file_path = os.path.join(save_dir, part[\"filename\"])\n",
    "\n",
    "                    with open(file_path, \"wb\") as f:\n",
    "                        f.write(file_data)\n",
    "                        print(f\"Downloaded: {file_path}\")\n"
   ]
  },
  {
   "cell_type": "code",
   "execution_count": 8,
   "metadata": {},
   "outputs": [],
   "source": [
    "# if __name__ == \"__main__\":\n",
    "#     gmail_service = authenticate_gmail()\n",
    "#     keyword = \"elecf\"  # Change to the word you want to filter by\n",
    "#     messages = search_emails(gmail_service, keyword)\n",
    "\n",
    "#     if messages:\n",
    "#         print(f\"Found {len(messages)} email(s) with '{keyword}' in subject.\")\n",
    "#         download_attachments(gmail_service, messages)\n",
    "#     else:\n",
    "#         print(\"No emails found.\")\n",
    "\n"
   ]
  },
  {
   "cell_type": "code",
   "execution_count": 18,
   "metadata": {},
   "outputs": [
    {
     "name": "stdout",
     "output_type": "stream",
     "text": [
      "Found 4 email(s) from aa_chader@esi.dz with '' in the subject after 2025/02/01.\n",
      "Downloaded: attachments\\EmpRecords.txt\n",
      "Downloaded: attachments\\Consultations.txt\n",
      "Downloaded: attachments\\Int1-Corrigé.pdf\n",
      "Downloaded: attachments\\TP1_ALSDD_G8-12-13.pdf\n",
      "Downloaded: attachments\\LINKED LISTS.pdf\n",
      "Downloaded: attachments\\TD1_ARRAYS.pdf\n"
     ]
    }
   ],
   "source": [
    "# if __name__ == \"__main__\":\n",
    "#     gmail_service = authenticate_gmail()\n",
    "\n",
    "#     sender_email = \"nh_kadri@esi.dz\"  # Change this to the sender's email\n",
    "#     keyword = \"\"  # Change this to the keyword in the subject\n",
    "\n",
    "#     messages = search_emails_bysender(gmail_service, sender_email, keyword)\n",
    "\n",
    "#     if messages:\n",
    "#         print(f\"Found {len(messages)} email(s) from {sender_email} with '{keyword}' in the subject.\")\n",
    "#         download_attachments_sender(gmail_service, messages)\n",
    "#     else:\n",
    "#         print(\"No matching emails found.\")\n",
    "if __name__ == \"__main__\":\n",
    "    gmail_service = authenticate_gmail()\n",
    "# nh_kadri@esi.dz\n",
    "# my_haouas@esi.dz\n",
    "# b_khelouat@esi.dz \n",
    "# w_hidouci@esi.dz\n",
    "# aa_chader@esi.dz\n",
    "\n",
    "    sender_email = \"aa_chader@esi.dz\"  # Change to the sender's email\n",
    "    keyword = \"\"  # Change to the keyword in the subject\n",
    "    after_date = \"2025/02/01\"  # Change to the desired date (YYYY/MM/DD)\n",
    "\n",
    "    messages = search_emails(gmail_service, sender_email, keyword, after_date)\n",
    "\n",
    "    if messages:\n",
    "        print(f\"Found {len(messages)} email(s) from {sender_email} with '{keyword}' in the subject after {after_date}.\")\n",
    "        download_attachments_sender(gmail_service, messages)\n",
    "    else:\n",
    "        print(\"No matching emails found.\")\n",
    "\n"
   ]
  },
  {
   "cell_type": "code",
   "execution_count": null,
   "metadata": {},
   "outputs": [],
   "source": []
  },
  {
   "cell_type": "code",
   "execution_count": null,
   "metadata": {},
   "outputs": [],
   "source": []
  },
  {
   "cell_type": "code",
   "execution_count": null,
   "metadata": {},
   "outputs": [],
   "source": []
  },
  {
   "cell_type": "code",
   "execution_count": null,
   "metadata": {},
   "outputs": [],
   "source": []
  }
 ],
 "metadata": {
  "kernelspec": {
   "display_name": "gpu_env",
   "language": "python",
   "name": "python3"
  },
  "language_info": {
   "codemirror_mode": {
    "name": "ipython",
    "version": 3
   },
   "file_extension": ".py",
   "mimetype": "text/x-python",
   "name": "python",
   "nbconvert_exporter": "python",
   "pygments_lexer": "ipython3",
   "version": "3.12.8"
  }
 },
 "nbformat": 4,
 "nbformat_minor": 2
}
